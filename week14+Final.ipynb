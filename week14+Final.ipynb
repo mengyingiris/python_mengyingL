{
 "cells": [
  {
   "cell_type": "code",
   "execution_count": 13,
   "id": "ad523c3b",
   "metadata": {},
   "outputs": [
    {
     "name": "stdout",
     "output_type": "stream",
     "text": [
      "['https://www.artic.edu/iiif/2/01183093-9046-b5ff-38e9-cf7aee40d660/full/843,/0/default.jpg', 'https://www.artic.edu/iiif/2/0d401dc3-fa4c-d355-3528-578c9929c229/full/843,/0/default.jpg', 'https://www.artic.edu/iiif/2/f8fd76e9-c396-5678-36ed-6a348c904d27/full/843,/0/default.jpg', 'https://www.artic.edu/iiif/2/496a062d-aa6d-a2d2-aebc-c0c25635b76e/full/843,/0/default.jpg', 'https://www.artic.edu/iiif/2/cb34b0a8-bc51-d063-aab1-47c7debf3a7b/full/843,/0/default.jpg', 'https://www.artic.edu/iiif/2/2b4f4bfc-8030-048c-02fd-2a3e1d727d6d/full/843,/0/default.jpg', 'https://www.artic.edu/iiif/2/3e41420d-2bae-5863-1980-fd39a78e1ffe/full/843,/0/default.jpg', 'https://www.artic.edu/iiif/2/26d3cea8-44c0-bfbd-a91a-19a007517152/full/843,/0/default.jpg', 'https://www.artic.edu/iiif/2/c0ff2771-dd79-014d-fb6d-7ee170ad70e1/full/843,/0/default.jpg']\n"
     ]
    },
    {
     "data": {
      "text/plain": [
       "True"
      ]
     },
     "execution_count": 13,
     "metadata": {},
     "output_type": "execute_result"
    }
   ],
   "source": [
    "import requests\n",
    "\n",
    "# Make a GET request to the API endpoint\n",
    "endpoint = \"https://api.artic.edu/api/v1/artworks/search/?fields=id,image_id\"\n",
    "params = {\"q\": \"paris\", \"limit\": 9}\n",
    "\n",
    "response = requests.get(endpoint, params=params)\n",
    "data = response.json()\n",
    "\n",
    "# Extract the image IDs\n",
    "image_ids = []\n",
    "for artwork in data['data']:\n",
    "    image_ids.append(artwork['image_id'])\n",
    "\n",
    "# Get image URLs of the primary images of the artworks\n",
    "image_urls = []\n",
    "for image_id in image_ids:\n",
    "    image_url = \"https://www.artic.edu/iiif/2/{}/full/843,/0/default.jpg\".format(image_id)\n",
    "    image_urls.append(image_url)\n",
    "\n",
    "# Print the image URLs\n",
    "print(image_urls)\n",
    "import cv2\n",
    "import numpy as np\n",
    "\n",
    "images = []\n",
    "for url in image_urls:\n",
    "    response = requests.get(url)\n",
    "    img_array = np.array(bytearray(response.content), dtype=np.uint8)\n",
    "    img = cv2.imdecode(img_array, -1)\n",
    "    if img is not None and img.size != 0:  # Check if image has non-empty dimensions\n",
    "        images.append(img)\n",
    "\n",
    "canvas = np.zeros((1200, 1200, 3), dtype=np.uint8)\n",
    "\n",
    "for i, img in enumerate(images):\n",
    "    # Crop the image to a square\n",
    "    h, w, _ = img.shape\n",
    "    size = min(h, w)\n",
    "    center = (w//2, h//2)\n",
    "    img_cropped = img[center[1]-size//2:center[1]+size//2, center[0]-size//2:center[0]+size//2]\n",
    "\n",
    "    # Resize the image to 400x400\n",
    "    img_resized = cv2.resize(img_cropped, (400, 400))\n",
    "\n",
    "    x = (i % 3) * 400\n",
    "    y = (i // 3) * 400\n",
    "    canvas[y:y+400, x:x+400] = img_resized\n",
    "\n",
    "cv2.imwrite(\"surrealism.jpg\", canvas)"
   ]
  },
  {
   "cell_type": "code",
   "execution_count": 30,
   "id": "0b31a577",
   "metadata": {},
   "outputs": [
    {
     "name": "stdout",
     "output_type": "stream",
     "text": [
      "['https://www.artic.edu/iiif/2/2d484387-2509-5e8e-2c43-22f9981972eb/full/843,/0/default.jpg', 'https://www.artic.edu/iiif/2/d0a72b06-f1ee-4464-d58c-5e39bc0534b3/full/843,/0/default.jpg', 'https://www.artic.edu/iiif/2/26d3cea8-44c0-bfbd-a91a-19a007517152/full/843,/0/default.jpg', 'https://www.artic.edu/iiif/2/d0ff5b36-bb38-b156-6042-5c8545352c2f/full/843,/0/default.jpg', 'https://www.artic.edu/iiif/2/f11bd233-6cc3-4221-59eb-f7363be4119e/full/843,/0/default.jpg', 'https://www.artic.edu/iiif/2/a1dc6109-6e0c-7801-ebe8-8c95fec2c4e4/full/843,/0/default.jpg', 'https://www.artic.edu/iiif/2/081be15c-8812-c174-eeb2-cf318a2e67cf/full/843,/0/default.jpg', 'https://www.artic.edu/iiif/2/3b374643-5328-3e00-c02b-5ab56e5ae8f8/full/843,/0/default.jpg', 'https://www.artic.edu/iiif/2/ef96e79b-f481-8114-0804-4bd39c101983/full/843,/0/default.jpg']\n"
     ]
    },
    {
     "data": {
      "text/plain": [
       "True"
      ]
     },
     "execution_count": 30,
     "metadata": {},
     "output_type": "execute_result"
    }
   ],
   "source": [
    "import requests\n",
    "\n",
    "# Make a GET request to the API endpoint\n",
    "endpoint = \"https://api.artic.edu/api/v1/artworks/search/?fields=id,image_id\"\n",
    "params = {\"q\": \"post-impressionism\", \"limit\": 9}\n",
    "\n",
    "response = requests.get(endpoint, params=params)\n",
    "data = response.json()\n",
    "\n",
    "# Extract the image IDs\n",
    "image_ids = []\n",
    "for artwork in data['data']:\n",
    "    image_ids.append(artwork['image_id'])\n",
    "\n",
    "# Get image URLs of the primary images of the artworks\n",
    "image_urls = []\n",
    "for image_id in image_ids:\n",
    "    image_url = \"https://www.artic.edu/iiif/2/{}/full/843,/0/default.jpg\".format(image_id)\n",
    "    image_urls.append(image_url)\n",
    "\n",
    "# Print the image URLs\n",
    "print(image_urls)\n",
    "import cv2\n",
    "import numpy as np\n",
    "\n",
    "images = []\n",
    "for url in image_urls:\n",
    "    response = requests.get(url)\n",
    "    img_array = np.array(bytearray(response.content), dtype=np.uint8)\n",
    "    img = cv2.imdecode(img_array, -1)\n",
    "    if img is not None and img.size != 0:  # Check if image has non-empty dimensions\n",
    "        images.append(img)\n",
    "\n",
    "canvas = np.zeros((1200, 1200, 3), dtype=np.uint8)\n",
    "\n",
    "for i, img in enumerate(images):\n",
    "    # Crop the image to a square\n",
    "    h, w, _ = img.shape\n",
    "    size = min(h, w)\n",
    "    center = (w//2, h//2)\n",
    "    img_cropped = img[center[1]-size//2:center[1]+size//2, center[0]-size//2:center[0]+size//2]\n",
    "\n",
    "    # Resize the image to 400x400\n",
    "    img_resized = cv2.resize(img_cropped, (400, 400))\n",
    "\n",
    "    x = (i % 3) * 400\n",
    "    y = (i // 3) * 400\n",
    "    canvas[y:y+400, x:x+400] = img_resized\n",
    "\n",
    "cv2.imwrite(\"post-impressionism.jpg\", canvas)"
   ]
  },
  {
   "cell_type": "code",
   "execution_count": 64,
   "id": "d2c9f8de",
   "metadata": {},
   "outputs": [
    {
     "name": "stdout",
     "output_type": "stream",
     "text": [
      "['https://www.artic.edu/iiif/2/42411c30-02ce-1972-be90-06720ee774fd/full/843,/0/default.jpg', 'https://www.artic.edu/iiif/2/13929657-1c8f-be57-4ea6-3aed6411a733/full/843,/0/default.jpg', 'https://www.artic.edu/iiif/2/None/full/843,/0/default.jpg', 'https://www.artic.edu/iiif/2/0b858396-b5f9-9706-237d-c3de59af1850/full/843,/0/default.jpg', 'https://www.artic.edu/iiif/2/baf0d969-ea5f-79f5-afc0-e2ab098433c9/full/843,/0/default.jpg', 'https://www.artic.edu/iiif/2/70742343-a189-c649-b8a7-da201269cea1/full/843,/0/default.jpg', 'https://www.artic.edu/iiif/2/234f3c5c-4630-bbc4-276c-e97b18692696/full/843,/0/default.jpg', 'https://www.artic.edu/iiif/2/9de3411f-9406-c6b3-13d8-b0c9d3be2d96/full/843,/0/default.jpg', 'https://www.artic.edu/iiif/2/1f7f712b-fb17-2a1a-270d-a877b6245165/full/843,/0/default.jpg']\n"
     ]
    },
    {
     "data": {
      "text/plain": [
       "True"
      ]
     },
     "execution_count": 64,
     "metadata": {},
     "output_type": "execute_result"
    }
   ],
   "source": [
    "import requests\n",
    "import cv2\n",
    "import numpy as np\n",
    "\n",
    "# Make a GET request to the API endpoint\n",
    "endpoint = \"https://api.artic.edu/api/v1/artworks/search/?fields=id,image_id\"\n",
    "params = {\"q\": \"twilight\", \"limit\": 9}\n",
    "\n",
    "response = requests.get(endpoint, params=params)\n",
    "data = response.json()\n",
    "\n",
    "# Extract the image IDs\n",
    "image_ids = []\n",
    "for artwork in data['data']:\n",
    "    image_ids.append(artwork['image_id'])\n",
    "\n",
    "# Get image URLs of the primary images of the artworks\n",
    "image_urls = []\n",
    "for image_id in image_ids:\n",
    "    image_url = \"https://www.artic.edu/iiif/2/{}/full/843,/0/default.jpg\".format(image_id)\n",
    "    image_urls.append(image_url)\n",
    "\n",
    "# Print the image URLs\n",
    "print(image_urls)\n",
    "\n",
    "images = []\n",
    "for url in image_urls:\n",
    "    response = requests.get(url)\n",
    "    img_array = np.array(bytearray(response.content), dtype=np.uint8)\n",
    "    img = cv2.imdecode(img_array, -1)\n",
    "    if img is not None and img.size != 0:  # Check if image has non-empty dimensions\n",
    "        images.append(img)\n",
    "\n",
    "canvas = np.zeros((1200, 1200, 3), dtype=np.uint8)\n",
    "\n",
    "for i, img in enumerate(images):\n",
    "    # Crop the image to a square\n",
    "    h, w, _ = img.shape\n",
    "    size = min(h, w)\n",
    "    center = (w//2, h//2)\n",
    "    img_cropped = img[center[1]-size//2:center[1]+size//2, center[0]-size//2:center[0]+size//2]\n",
    "\n",
    "    # Resize the image to 400x400\n",
    "    img_resized = cv2.resize(img_cropped, (400, 400))\n",
    "\n",
    "    x = (i % 3) * 400\n",
    "    y = (i // 3) * 400\n",
    "    canvas[y:y+400, x:x+400] = img_resized\n",
    "\n",
    "# Add the value of the \"q\" parameter to the canvas\n",
    "q_value = params[\"q\"]\n",
    "cv2.putText(canvas, f\"TOPIC - {q_value}\", (20, 40), cv2.FONT_HERSHEY_SIMPLEX, 1, (255, 255, 255), 2)\n",
    "\n",
    "cv2.imwrite(\"9.jpg\", canvas)\n"
   ]
  },
  {
   "cell_type": "code",
   "execution_count": 70,
   "id": "5bf1e3b6",
   "metadata": {},
   "outputs": [
    {
     "name": "stdout",
     "output_type": "stream",
     "text": [
      "['https://www.artic.edu/iiif/2/2d484387-2509-5e8e-2c43-22f9981972eb/full/843,/0/default.jpg', 'https://www.artic.edu/iiif/2/ef96e79b-f481-8114-0804-4bd39c101983/full/843,/0/default.jpg', 'https://www.artic.edu/iiif/2/8534685d-1102-e1e3-e194-94f6e925e8b0/full/843,/0/default.jpg', 'https://www.artic.edu/iiif/2/d0a72b06-f1ee-4464-d58c-5e39bc0534b3/full/843,/0/default.jpg', 'https://www.artic.edu/iiif/2/838d8c33-a3b4-68ea-587b-87ceec2011af/full/843,/0/default.jpg', 'https://www.artic.edu/iiif/2/f117b976-3897-fbbd-7a1f-ac8a5ccbfa51/full/843,/0/default.jpg', 'https://www.artic.edu/iiif/2/64693216-bc82-0d21-9e57-86f8fc2e632b/full/843,/0/default.jpg', 'https://www.artic.edu/iiif/2/2765aee9-3d78-ec6c-5c66-a1d9dc8173f6/full/843,/0/default.jpg', 'https://www.artic.edu/iiif/2/caf4fa39-e2e8-344a-542c-2d9a03ec9d4b/full/843,/0/default.jpg', 'https://www.artic.edu/iiif/2/0ff20364-c795-c2ca-c1e8-e5a848f09554/full/843,/0/default.jpg', 'https://www.artic.edu/iiif/2/d0ff5b36-bb38-b156-6042-5c8545352c2f/full/843,/0/default.jpg', 'https://www.artic.edu/iiif/2/350b7e7f-e1d8-e58b-8890-0ef6b04afe18/full/843,/0/default.jpg', 'https://www.artic.edu/iiif/2/4c364c64-2108-4e19-5fc5-1ab26ba924a7/full/843,/0/default.jpg', 'https://www.artic.edu/iiif/2/e72305c9-1a1c-8a36-7450-582619366338/full/843,/0/default.jpg', 'https://www.artic.edu/iiif/2/db94c894-a24c-c2e0-9db9-0506567a0152/full/843,/0/default.jpg', 'https://www.artic.edu/iiif/2/2e796bd8-4e0b-f55a-7c69-75a70a3e97d7/full/843,/0/default.jpg']\n"
     ]
    },
    {
     "data": {
      "text/plain": [
       "True"
      ]
     },
     "execution_count": 70,
     "metadata": {},
     "output_type": "execute_result"
    }
   ],
   "source": [
    "import requests\n",
    "import cv2\n",
    "import numpy as np\n",
    "\n",
    "# Make a GET request to the API endpoint\n",
    "endpoint = \"https://api.artic.edu/api/v1/artworks/search/?fields=id,image_id\"\n",
    "params = {\"q\": \"impressionism\", \"limit\": 16}\n",
    "\n",
    "response = requests.get(endpoint, params=params)\n",
    "data = response.json()\n",
    "\n",
    "# Extract the image IDs\n",
    "image_ids = []\n",
    "for artwork in data['data']:\n",
    "    image_ids.append(artwork['image_id'])\n",
    "\n",
    "# Get image URLs of the primary images of the artworks\n",
    "image_urls = []\n",
    "for image_id in image_ids:\n",
    "    image_url = \"https://www.artic.edu/iiif/2/{}/full/843,/0/default.jpg\".format(image_id)\n",
    "    image_urls.append(image_url)\n",
    "\n",
    "# Print the image URLs\n",
    "print(image_urls)\n",
    "\n",
    "images = []\n",
    "for url in image_urls:\n",
    "    response = requests.get(url)\n",
    "    img_array = np.array(bytearray(response.content), dtype=np.uint8)\n",
    "    img = cv2.imdecode(img_array, -1)\n",
    "    if img is not None and img.size != 0:  # Check if image has non-empty dimensions\n",
    "        images.append(img)\n",
    "\n",
    "canvas = np.zeros((1600, 1600, 3), dtype=np.uint8)\n",
    "\n",
    "for i, img in enumerate(images):\n",
    "    # Crop the image to a square\n",
    "    h, w, _ = img.shape\n",
    "    size = min(h, w)\n",
    "    center = (w//2, h//2)\n",
    "    img_cropped = img[center[1]-size//2:center[1]+size//2, center[0]-size//2:center[0]+size//2]\n",
    "\n",
    "    # Resize the image to 400x400\n",
    "    img_resized = cv2.resize(img_cropped, (400, 400))\n",
    "\n",
    "    x = (i % 4) * 400\n",
    "    y = (i // 4) * 400\n",
    "    canvas[y:y+400, x:x+400] = img_resized\n",
    "\n",
    "# Add the value of the \"q\" parameter to the canvas\n",
    "q_value = params[\"q\"]\n",
    "cv2.putText(canvas, f\"TOPIC - {q_value}\", (20, 40), cv2.FONT_HERSHEY_SIMPLEX, 1, (255, 255, 255), 2)\n",
    "\n",
    "cv2.imwrite(\"12.jpg\", canvas)\n",
    "\n"
   ]
  },
  {
   "cell_type": "code",
   "execution_count": null,
   "id": "39d8ae75",
   "metadata": {},
   "outputs": [],
   "source": []
  }
 ],
 "metadata": {
  "kernelspec": {
   "display_name": "Python 3 (ipykernel)",
   "language": "python",
   "name": "python3"
  },
  "language_info": {
   "codemirror_mode": {
    "name": "ipython",
    "version": 3
   },
   "file_extension": ".py",
   "mimetype": "text/x-python",
   "name": "python",
   "nbconvert_exporter": "python",
   "pygments_lexer": "ipython3",
   "version": "3.10.9"
  }
 },
 "nbformat": 4,
 "nbformat_minor": 5
}
