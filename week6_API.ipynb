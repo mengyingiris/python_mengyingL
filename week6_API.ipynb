{
 "cells": [
  {
   "cell_type": "code",
   "execution_count": 4,
   "id": "1f78c2d7",
   "metadata": {},
   "outputs": [
    {
     "name": "stdout",
     "output_type": "stream",
     "text": [
      "Goblet by Henry Haddock\n",
      "American, 1811–1892\n",
      "Three Boats in Harbor, San Vigilio by John Singer Sargent\n",
      "American, 1856–1925\n",
      "Homer Schiff Saint-Gaudens by Augustus Saint-Gaudens\n",
      "American, born Ireland, 1848–1907\n",
      "Dance Hoop Headdress (Meoko) by Kayapo\n",
      "Matto Grosso, Brazil\n",
      "Basket by Mountain Maidu\n",
      "Northern California, United States\n",
      "Blackware Vessel in the Form of a Feline Sitting on the Back of a Bird by Nazca\n",
      "South coast, Peru\n",
      "Carved Shell Depicting the Profile Face of Diety (Broken) by Maya\n",
      "Mexico or Guatmala\n",
      "Shell, Possibly an Arm Band, Incised with Profile Head Framed by Geometric Motifs (Fragment) by Possibly Mixtec\n",
      "Oaxaca or Guerero, Mexico\n",
      "Birdstone by Archaic\n",
      "Illinois or Indiana, United States\n",
      "Garden Urn by Nevers, France\n",
      "Moonlight Marine by Albert Pinkham Ryder\n",
      "American, 1847–1917\n",
      "\"Untitled\" by Felix Gonzalez-Torres\n",
      "American, born Cuba, 1957-1996\n"
     ]
    }
   ],
   "source": [
    "import requests\n",
    "\n",
    "url = 'https://api.artic.edu/api/v1/artworks'\n",
    "params = {'fields': 'id,title,artist_display,date_display,main_reference_number'}\n",
    "\n",
    "response = requests.get(url, params=params)\n",
    "\n",
    "\n",
    "data = response.json()\n",
    "    # do something with the data, e.g. print the titles and artists of the first 10 artworks\n",
    "for artwork in data['data']:\n",
    "    print(f\"{artwork['title']} by {artwork['artist_display']}\")\n"
   ]
  },
  {
   "cell_type": "code",
   "execution_count": null,
   "id": "13cd5e79",
   "metadata": {},
   "outputs": [],
   "source": []
  },
  {
   "cell_type": "code",
   "execution_count": null,
   "id": "df7e99d7",
   "metadata": {},
   "outputs": [],
   "source": []
  },
  {
   "cell_type": "code",
   "execution_count": 42,
   "id": "a880a04c",
   "metadata": {},
   "outputs": [
    {
     "name": "stdout",
     "output_type": "stream",
     "text": [
      "Inventions of the Monsters (Salvador Dalí\n",
      "Spanish, 1904–1989, 1937, Gallery 289)\n"
     ]
    },
    {
     "data": {
      "text/html": [
       "<img src=\"https://www.artic.edu/iiif/2/be9551d4-860f-37a0-1408-086617f1824e/full/843,/0/default.jpg\"/>"
      ],
      "text/plain": [
       "<IPython.core.display.Image object>"
      ]
     },
     "metadata": {},
     "output_type": "display_data"
    },
    {
     "name": "stdout",
     "output_type": "stream",
     "text": [
      "Venus de Milo with Drawers (Salvador Dalí\n",
      "Spanish, 1904–1989, 1936, Gallery 289)\n"
     ]
    },
    {
     "data": {
      "text/html": [
       "<img src=\"https://www.artic.edu/iiif/2/678c7a7a-b8c7-2857-7b97-f3c3501b8b1c/full/843,/0/default.jpg\"/>"
      ],
      "text/plain": [
       "<IPython.core.display.Image object>"
      ]
     },
     "metadata": {},
     "output_type": "display_data"
    },
    {
     "name": "stdout",
     "output_type": "stream",
     "text": [
      "A Chemist Lifting with Extreme Precaution the Cuticle of a Grand Piano (Salvador Dalí\n",
      "Spanish, 1904–1989, 1936, Gallery 289)\n"
     ]
    },
    {
     "data": {
      "text/html": [
       "<img src=\"https://www.artic.edu/iiif/2/b846f704-96d3-3898-aece-13969147c48c/full/843,/0/default.jpg\"/>"
      ],
      "text/plain": [
       "<IPython.core.display.Image object>"
      ]
     },
     "metadata": {},
     "output_type": "display_data"
    },
    {
     "name": "stdout",
     "output_type": "stream",
     "text": [
      "Untitled (Dream of Venus) formerly Visions of Eternity (Salvador Dalí\n",
      "Spanish, 1904–1989, 1939, Gallery 289)\n"
     ]
    },
    {
     "data": {
      "text/html": [
       "<img src=\"https://www.artic.edu/iiif/2/e61642c8-9c14-617c-771f-8fb892b90a4f/full/843,/0/default.jpg\"/>"
      ],
      "text/plain": [
       "<IPython.core.display.Image object>"
      ]
     },
     "metadata": {},
     "output_type": "display_data"
    },
    {
     "name": "stdout",
     "output_type": "stream",
     "text": [
      "Mae West's Face which May be Used as a Surrealist Apartment (Salvador Dalí\n",
      "Spanish, 1904-1989, 1934–35, Gallery 289)\n"
     ]
    },
    {
     "data": {
      "text/html": [
       "<img src=\"https://www.artic.edu/iiif/2/ca291a36-df9c-0926-49d8-d700b402f5bf/full/843,/0/default.jpg\"/>"
      ],
      "text/plain": [
       "<IPython.core.display.Image object>"
      ]
     },
     "metadata": {},
     "output_type": "display_data"
    }
   ],
   "source": [
    "import requests\n",
    "from IPython.display import Image, display\n",
    "\n",
    "# Define the API endpoint URL\n",
    "url = 'https://api.artic.edu/api/v1/artworks/search'\n",
    "\n",
    "# Define the search parameters\n",
    "params = {\n",
    "      'fields': 'id,title,image_id,artist_display,date_display,classification_title,gallery_title',\n",
    "    'q': 'Dali',\n",
    "    'limit': 10\n",
    "}\n",
    "\n",
    "# Send a GET request to the API with the search parameters\n",
    "response = requests.get(url, params=params)\n",
    "\n",
    "# Retrieve the JSON data from the response\n",
    "data = response.json()\n",
    "\n",
    "# Extract the first three image URLs from the search results\n",
    "for result in data['data'][:5]:\n",
    "    print(f\"{result['title']} ({result['artist_display']}, {result['date_display']}, {result['gallery_title']})\")\n",
    "    display(Image(url=f'https://www.artic.edu/iiif/2/{result[\"image_id\"]}/full/843,/0/default.jpg'))\n"
   ]
  },
  {
   "cell_type": "code",
   "execution_count": null,
   "id": "1a830000",
   "metadata": {},
   "outputs": [],
   "source": []
  },
  {
   "cell_type": "code",
   "execution_count": 55,
   "id": "b9fa5d6e",
   "metadata": {
    "scrolled": false
   },
   "outputs": [
    {
     "name": "stdout",
     "output_type": "stream",
     "text": [
      "Water Lilies (Claude Monet\n",
      "French, 1840-1926, 1906, Gallery 243)\n"
     ]
    },
    {
     "data": {
      "text/html": [
       "<img src=\"https://www.artic.edu/iiif/2/3c27b499-af56-f0d5-93b5-a7f2f1ad5813/full/843,/0/default.jpg\"/>"
      ],
      "text/plain": [
       "<IPython.core.display.Image object>"
      ]
     },
     "metadata": {},
     "output_type": "display_data"
    },
    {
     "name": "stdout",
     "output_type": "stream",
     "text": [
      "Arrival of the Normandy Train, Gare Saint-Lazare (Claude Monet\n",
      "French, 1840-1926, 1877, Gallery 201)\n"
     ]
    },
    {
     "data": {
      "text/html": [
       "<img src=\"https://www.artic.edu/iiif/2/0f1cc0e0-e42e-be16-3f71-2022da38cb93/full/843,/0/default.jpg\"/>"
      ],
      "text/plain": [
       "<IPython.core.display.Image object>"
      ]
     },
     "metadata": {},
     "output_type": "display_data"
    },
    {
     "name": "stdout",
     "output_type": "stream",
     "text": [
      "Stacks of Wheat (End of Summer) (Claude Monet\n",
      "French, 1840-1926, 1890/91, Gallery 243)\n"
     ]
    },
    {
     "data": {
      "text/html": [
       "<img src=\"https://www.artic.edu/iiif/2/a38e2828-ec6f-ece1-a30f-70243449197b/full/843,/0/default.jpg\"/>"
      ],
      "text/plain": [
       "<IPython.core.display.Image object>"
      ]
     },
     "metadata": {},
     "output_type": "display_data"
    },
    {
     "name": "stdout",
     "output_type": "stream",
     "text": [
      "Cliff Walk at Pourville (Claude Monet\n",
      "French, 1840-1926, 1882, Gallery 240)\n"
     ]
    },
    {
     "data": {
      "text/html": [
       "<img src=\"https://www.artic.edu/iiif/2/b0effb1c-ff23-bbaa-f809-9fd94e31c1a0/full/843,/0/default.jpg\"/>"
      ],
      "text/plain": [
       "<IPython.core.display.Image object>"
      ]
     },
     "metadata": {},
     "output_type": "display_data"
    },
    {
     "name": "stdout",
     "output_type": "stream",
     "text": [
      "Water Lily Pond (Claude Monet\n",
      "French, 1840-1926, 1900, Gallery 243)\n"
     ]
    },
    {
     "data": {
      "text/html": [
       "<img src=\"https://www.artic.edu/iiif/2/8534685d-1102-e1e3-e194-94f6e925e8b0/full/843,/0/default.jpg\"/>"
      ],
      "text/plain": [
       "<IPython.core.display.Image object>"
      ]
     },
     "metadata": {},
     "output_type": "display_data"
    }
   ],
   "source": [
    "import requests\n",
    "from IPython.display import Image, display\n",
    "\n",
    "# Define the API endpoint URL\n",
    "url = 'https://api.artic.edu/api/v1/artworks/search'\n",
    "\n",
    "# Define the search parameters\n",
    "params = {\n",
    "      'fields': 'id,title,image_id,artist_display,date_display,classification_title,gallery_title',\n",
    "    'q': 'Monet',\n",
    "    'limit': 10\n",
    "}\n",
    "\n",
    "# Send a GET request to the API with the search parameters\n",
    "response = requests.get(url, params=params)\n",
    "\n",
    "# Retrieve the JSON data from the response\n",
    "data = response.json()\n",
    "\n",
    "# Extract the first three image URLs from the search results\n",
    "for result in data['data'][:5]:\n",
    "    print(f\"{result['title']} ({result['artist_display']}, {result['date_display']}, {result['gallery_title']})\")\n",
    "    display(Image(url=f'https://www.artic.edu/iiif/2/{result[\"image_id\"]}/full/843,/0/default.jpg'))\n",
    "\n",
    "\n"
   ]
  },
  {
   "cell_type": "code",
   "execution_count": null,
   "id": "17807602",
   "metadata": {},
   "outputs": [],
   "source": []
  }
 ],
 "metadata": {
  "kernelspec": {
   "display_name": "Python 3 (ipykernel)",
   "language": "python",
   "name": "python3"
  },
  "language_info": {
   "codemirror_mode": {
    "name": "ipython",
    "version": 3
   },
   "file_extension": ".py",
   "mimetype": "text/x-python",
   "name": "python",
   "nbconvert_exporter": "python",
   "pygments_lexer": "ipython3",
   "version": "3.10.9"
  }
 },
 "nbformat": 4,
 "nbformat_minor": 5
}
