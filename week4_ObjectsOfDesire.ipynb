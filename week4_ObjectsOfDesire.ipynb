{
 "cells": [
  {
   "cell_type": "markdown",
   "metadata": {},
   "source": [
    "Create a class object of something that you love. Write at least 3 methods for it. Include some attributes.\n",
    "\n",
    "Items you love can be categorical: \n",
    "\n",
    "* Food  \n",
    "* Pets \n",
    "* Vehicles \n",
    "* Places \n",
    "* Activities \n",
    "* Things \n",
    "\n",
    "See examples below "
   ]
  },
  {
   "cell_type": "code",
   "execution_count": null,
   "metadata": {},
   "outputs": [],
   "source": [
    "# A class with two instance attributes\n",
    "class Item:\n",
    "\n",
    "    # initializer with instance attributes\n",
    "    def __init__(self, color, style):\n",
    "        self.color = color\n",
    "        self.style = style"
   ]
  },
  {
   "cell_type": "code",
   "execution_count": 1,
   "metadata": {},
   "outputs": [],
   "source": [
    "# A class with one class attribute\n",
    "class Car:\n",
    "\n",
    "    # class attribute\n",
    "    wheels = 4\n",
    "\n",
    "    # initializer with instance attributes\n",
    "    def __init__(self, color, style):\n",
    "        self.color = color\n",
    "        self.style = style"
   ]
  },
  {
   "cell_type": "code",
   "execution_count": 48,
   "metadata": {},
   "outputs": [],
   "source": [
    "class OlympicPeninsular:\n",
    "    \n",
    "    def __init__(self,time,activity):\n",
    "        self.time = time\n",
    "        self.activity = activity\n",
    "        \n",
    "    def experience(self,time):\n",
    "        print(\" {} at the {} \".format(self.activity, time)) \n",
    "        \n",
    "    def ambience(self, weather):\n",
    "        print(\" Getting lost in the {} {} \".format(self.time,weather)) "
   ]
  },
  {
   "cell_type": "code",
   "execution_count": 49,
   "metadata": {},
   "outputs": [],
   "source": [
    "spring_OlympicPeninsular = OlympicPeninsular(time='morning',activity ='Wandering')"
   ]
  },
  {
   "cell_type": "code",
   "execution_count": 50,
   "metadata": {},
   "outputs": [
    {
     "name": "stdout",
     "output_type": "stream",
     "text": [
      " Wandering at the Ruby Beach \n"
     ]
    }
   ],
   "source": [
    "spring_OlympicPeninsular.experience('Ruby Beach')"
   ]
  },
  {
   "cell_type": "code",
   "execution_count": 51,
   "metadata": {},
   "outputs": [
    {
     "name": "stdout",
     "output_type": "stream",
     "text": [
      " Getting lost in the morning mist \n"
     ]
    }
   ],
   "source": [
    "spring_OlympicPeninsular.ambience('mist')"
   ]
  },
  {
   "cell_type": "code",
   "execution_count": null,
   "metadata": {},
   "outputs": [],
   "source": []
  }
 ],
 "metadata": {
  "kernelspec": {
   "display_name": "Python 3 (ipykernel)",
   "language": "python",
   "name": "python3"
  },
  "language_info": {
   "codemirror_mode": {
    "name": "ipython",
    "version": 3
   },
   "file_extension": ".py",
   "mimetype": "text/x-python",
   "name": "python",
   "nbconvert_exporter": "python",
   "pygments_lexer": "ipython3",
   "version": "3.9.13"
  }
 },
 "nbformat": 4,
 "nbformat_minor": 2
}
